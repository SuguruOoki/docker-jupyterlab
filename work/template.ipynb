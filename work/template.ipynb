{
 "cells": [
  {
   "cell_type": "code",
   "execution_count": 26,
   "id": "bde0842d-3d03-471c-9929-f2ba8961cf30",
   "metadata": {},
   "outputs": [
    {
     "name": "stdout",
     "output_type": "stream",
     "text": [
      "Collecting git+https://github.com/MasamichiIdeue/redquery.git\n",
      "  Cloning https://github.com/MasamichiIdeue/redquery.git to /tmp/pip-req-build-iudxxj7q\n",
      "  Running command git clone -q https://github.com/MasamichiIdeue/redquery.git /tmp/pip-req-build-iudxxj7q\n",
      "  Resolved https://github.com/MasamichiIdeue/redquery.git to commit e2a5b7f638a89de5176072064484fdf93daded51\n",
      "Requirement already satisfied: urllib3 in /opt/conda/lib/python3.9/site-packages (1.26.6)\n",
      "Requirement already satisfied: redash-toolbelt in /opt/conda/lib/python3.9/site-packages (0.1.4)\n",
      "Requirement already satisfied: requests<3.0.0,>=2.22.0 in /opt/conda/lib/python3.9/site-packages (from redash-toolbelt) (2.26.0)\n",
      "Requirement already satisfied: click<8.0,>=7.0 in /opt/conda/lib/python3.9/site-packages (from redash-toolbelt) (7.1.2)\n",
      "Requirement already satisfied: urllib3<1.27,>=1.21.1 in /opt/conda/lib/python3.9/site-packages (from requests<3.0.0,>=2.22.0->redash-toolbelt) (1.26.6)\n",
      "Requirement already satisfied: certifi>=2017.4.17 in /opt/conda/lib/python3.9/site-packages (from requests<3.0.0,>=2.22.0->redash-toolbelt) (2021.5.30)\n",
      "Requirement already satisfied: charset-normalizer~=2.0.0 in /opt/conda/lib/python3.9/site-packages (from requests<3.0.0,>=2.22.0->redash-toolbelt) (2.0.0)\n",
      "Requirement already satisfied: idna<4,>=2.5 in /opt/conda/lib/python3.9/site-packages (from requests<3.0.0,>=2.22.0->redash-toolbelt) (3.1)\n",
      "Requirement already satisfied: redash-dynamic-query in /opt/conda/lib/python3.9/site-packages (1.0.4)\n",
      "Requirement already satisfied: pystache in /opt/conda/lib/python3.9/site-packages (from redash-dynamic-query) (0.5.4)\n",
      "Requirement already satisfied: requests in /opt/conda/lib/python3.9/site-packages (from redash-dynamic-query) (2.26.0)\n",
      "Requirement already satisfied: certifi>=2017.4.17 in /opt/conda/lib/python3.9/site-packages (from requests->redash-dynamic-query) (2021.5.30)\n",
      "Requirement already satisfied: idna<4,>=2.5 in /opt/conda/lib/python3.9/site-packages (from requests->redash-dynamic-query) (3.1)\n",
      "Requirement already satisfied: urllib3<1.27,>=1.21.1 in /opt/conda/lib/python3.9/site-packages (from requests->redash-dynamic-query) (1.26.6)\n",
      "Requirement already satisfied: charset-normalizer~=2.0.0 in /opt/conda/lib/python3.9/site-packages (from requests->redash-dynamic-query) (2.0.0)\n",
      "Collecting git+https://github.com/ariarijp/pandash\n",
      "  Cloning https://github.com/ariarijp/pandash to /tmp/pip-req-build-46mz12m1\n",
      "  Running command git clone -q https://github.com/ariarijp/pandash /tmp/pip-req-build-46mz12m1\n",
      "  Resolved https://github.com/ariarijp/pandash to commit eb7167555f91853523607c005d00957d3639d32f\n",
      "Requirement already satisfied: pandas in /opt/conda/lib/python3.9/site-packages (from pandash==0.1.0) (1.3.1)\n",
      "Requirement already satisfied: redash-dynamic-query in /opt/conda/lib/python3.9/site-packages (from pandash==0.1.0) (1.0.4)\n",
      "Requirement already satisfied: numpy>=1.17.3 in /opt/conda/lib/python3.9/site-packages (from pandas->pandash==0.1.0) (1.21.1)\n",
      "Requirement already satisfied: python-dateutil>=2.7.3 in /opt/conda/lib/python3.9/site-packages (from pandas->pandash==0.1.0) (2.8.2)\n",
      "Requirement already satisfied: pytz>=2017.3 in /opt/conda/lib/python3.9/site-packages (from pandas->pandash==0.1.0) (2021.1)\n",
      "Requirement already satisfied: six>=1.5 in /opt/conda/lib/python3.9/site-packages (from python-dateutil>=2.7.3->pandas->pandash==0.1.0) (1.16.0)\n",
      "Requirement already satisfied: requests in /opt/conda/lib/python3.9/site-packages (from redash-dynamic-query->pandash==0.1.0) (2.26.0)\n",
      "Requirement already satisfied: pystache in /opt/conda/lib/python3.9/site-packages (from redash-dynamic-query->pandash==0.1.0) (0.5.4)\n",
      "Requirement already satisfied: charset-normalizer~=2.0.0 in /opt/conda/lib/python3.9/site-packages (from requests->redash-dynamic-query->pandash==0.1.0) (2.0.0)\n",
      "Requirement already satisfied: certifi>=2017.4.17 in /opt/conda/lib/python3.9/site-packages (from requests->redash-dynamic-query->pandash==0.1.0) (2021.5.30)\n",
      "Requirement already satisfied: idna<4,>=2.5 in /opt/conda/lib/python3.9/site-packages (from requests->redash-dynamic-query->pandash==0.1.0) (3.1)\n",
      "Requirement already satisfied: urllib3<1.27,>=1.21.1 in /opt/conda/lib/python3.9/site-packages (from requests->redash-dynamic-query->pandash==0.1.0) (1.26.6)\n",
      "Building wheels for collected packages: pandash\n",
      "  Building wheel for pandash (setup.py) ... \u001b[?25ldone\n",
      "\u001b[?25h  Created wheel for pandash: filename=pandash-0.1.0-py3-none-any.whl size=2279 sha256=7c81339b3db585ae5035c3af4e60165366f8ecdbcebf661971e27933841c145a\n",
      "  Stored in directory: /tmp/pip-ephem-wheel-cache-qrhiqueo/wheels/f0/6c/d7/39ed54df860484e01ef3d2b4661cc820db17b084d66481a800\n",
      "Successfully built pandash\n",
      "Installing collected packages: pandash\n",
      "Successfully installed pandash-0.1.0\n",
      "Python 3.9.6\n"
     ]
    }
   ],
   "source": [
    "!pip install git+https://github.com/MasamichiIdeue/redquery.git\n",
    "!pip install urllib3\n",
    "!pip install redash-toolbelt\n",
    "!pip install redash-dynamic-query\n",
    "!pip install git+https://github.com/ariarijp/pandash\n",
    "!python -V"
   ]
  },
  {
   "cell_type": "code",
   "execution_count": 10,
   "id": "74bc11db-2589-44aa-bfba-6d9114bc33a7",
   "metadata": {
    "lines_to_next_cell": 0
   },
   "outputs": [
    {
     "name": "stdout",
     "output_type": "stream",
     "text": [
      "       id                  name  rank_id           created_at  \\\n",
      "0     835  [テスト]２両編成用OKI SUGURU        2  2020-03-03T11:36:29   \n",
      "1    3443                  相曽 結        3  2021-04-25T05:58:36   \n",
      "2    3061                  鈴木 歩        2  2021-03-07T09:44:12   \n",
      "3    2044                久保田 康裕        3  2020-08-16T07:43:26   \n",
      "4    2689                 成田 力哉        3  2020-12-23T08:53:13   \n",
      "..    ...                   ...      ...                  ...   \n",
      "485  1373                 中村 圭介        1  2020-05-28T08:36:42   \n",
      "486  4078                 石川 雅述        2  2021-07-12T12:04:35   \n",
      "487  1793                 福田 遥生        3  2020-07-20T11:59:31   \n",
      "488  3848                 河合 大夢        2  2021-06-03T07:54:24   \n",
      "489  4102                  田邊真聖        1  2021-07-16T08:47:34   \n",
      "\n",
      "             created_at1  \n",
      "0    2021-04-25T01:18:24  \n",
      "1    2021-04-25T16:22:27  \n",
      "2    2021-04-25T23:55:34  \n",
      "3    2021-04-26T00:27:47  \n",
      "4    2021-04-26T00:40:27  \n",
      "..                   ...  \n",
      "485  2021-08-11T13:57:46  \n",
      "486  2021-08-12T07:55:23  \n",
      "487  2021-08-12T08:28:32  \n",
      "488  2021-08-12T09:52:42  \n",
      "489  2021-08-12T10:25:09  \n",
      "\n",
      "[490 rows x 5 columns]\n"
     ]
    }
   ],
   "source": [
    "from redash_dynamic_query import RedashDynamicQuery\n",
    "import json\n",
    "\n",
    "from pandash import query_to_df\n",
    "\n",
    "redash = RedashDynamicQuery(\n",
    "    endpoint='', # baseURLまでで問題なし\n",
    "    apikey='',\n",
    "    #取得したいデータソースIDを設定\n",
    "    data_source_id=1\n",
    ")\n",
    "\n",
    "#取得したいクエリIDを設定\n",
    "query_id = 576\n",
    "\n",
    "# bind = {\n",
    "# \"start_date\":  '2021-01-01T00:00:00',\n",
    "# \"end_date\":  '2017-12-31T23:59:59',\n",
    "# }\n",
    "print(query_to_df(redash, query_id))\n",
    "\n",
    "# redashのクエリ結果を取得\n",
    "# result = redash.query(query_id)\n",
    "# res = result['query_result']['data']\n",
    "\n",
    "#jsonを整形\n",
    "# res_format_json = json.dumps(res, indent=4, separators=(',', ': '))\n",
    "# print(res_format_json)"
   ]
  },
  {
   "cell_type": "code",
   "execution_count": null,
   "id": "6704d9ce-bfbe-40d3-9f08-dc3236e7e810",
   "metadata": {
    "lines_to_next_cell": 2
   },
   "outputs": [],
   "source": []
  }
 ],
 "metadata": {
  "jupytext": {
   "text_representation": {
    "extension": ".py",
    "format_name": "light",
    "format_version": "1.5",
    "jupytext_version": "1.11.4"
   }
  },
  "kernelspec": {
   "display_name": "Python 3 (ipykernel)",
   "language": "python",
   "name": "python3"
  },
  "language_info": {
   "codemirror_mode": {
    "name": "ipython",
    "version": 3
   },
   "file_extension": ".py",
   "mimetype": "text/x-python",
   "name": "python",
   "nbconvert_exporter": "python",
   "pygments_lexer": "ipython3",
   "version": "3.9.6"
  }
 },
 "nbformat": 4,
 "nbformat_minor": 5
}
